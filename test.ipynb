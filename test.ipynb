{
 "cells": [
  {
   "cell_type": "code",
   "execution_count": 2,
   "metadata": {},
   "outputs": [],
   "source": []
  },
  {
   "cell_type": "code",
   "execution_count": 3,
   "metadata": {},
   "outputs": [],
   "source": [
    "import torch\n",
    "def scatter_nd_pytorch(indices, updates, shape):\n",
    "    # Ensure indices are long tensor for indexing\n",
    "    indices = indices.long()\n",
    "    \n",
    "    # Create a zero tensor of the specified shape\n",
    "    result = torch.zeros(shape, dtype=updates.dtype, device=updates.device)\n",
    "    \n",
    "    # Unpack the dimensions for scattering\n",
    "    dim_length = indices.shape[-1]\n",
    "    idx_expanded = tuple(indices[:, :, i] for i in range(dim_length))\n",
    "    \n",
    "    # Scatter the updates to the result tensor\n",
    "    result[idx_expanded] = updates\n",
    "    return result\n",
    "\n",
    "\n",
    "# Example usage with your provided shapes and sizes\n",
    "N_rays = 8192\n",
    "N_samples = 42\n",
    "N_obj = 1\n",
    "N_samples_obj = 6\n",
    "\n",
    "# Dummy data for demonstration\n",
    "id_z_vals_bckg = torch.randint(0, N_samples + N_obj*N_samples_obj, (N_rays, 6, 2))\n",
    "raw_bckg = torch.randn(N_rays, 6, 4)\n",
    "\n",
    "# Shape of the raw tensor\n",
    "raw_sh = [N_rays, N_samples + N_obj*N_samples_obj, 4]\n",
    "\n",
    "# Create the raw tensor\n",
    "raw = torch.zeros(raw_sh)\n",
    "\n",
    "# Perform the scatter operation\n",
    "raw += scatter_nd_pytorch(id_z_vals_bckg, raw_bckg, raw_sh)"
   ]
  },
  {
   "cell_type": "code",
   "execution_count": 7,
   "metadata": {},
   "outputs": [
    {
     "data": {
      "text/plain": [
       "tensor([[[-0.4114,  0.4762,  0.2824, -0.4915],\n",
       "         [-0.9814, -0.0852,  0.5516,  0.0407],\n",
       "         [ 1.6542,  0.2371, -0.9970,  0.5172],\n",
       "         ...,\n",
       "         [ 0.3117,  0.4094, -1.5334, -0.4685],\n",
       "         [-1.5857, -0.1623,  1.4708, -0.6366],\n",
       "         [ 0.5398, -0.5206, -0.7659,  0.2284]],\n",
       "\n",
       "        [[ 1.5041,  0.5396, -0.3422, -0.8521],\n",
       "         [-0.2654,  0.7120, -0.6745,  1.3746],\n",
       "         [ 1.1241,  1.4274, -0.2997,  0.0702],\n",
       "         ...,\n",
       "         [-1.6938, -0.3264, -0.8954, -0.5679],\n",
       "         [-0.2659, -0.7734, -0.6231,  0.4535],\n",
       "         [ 0.3490,  0.8625,  0.3576,  1.1135]],\n",
       "\n",
       "        [[ 1.8997,  0.5756, -1.0827, -0.6513],\n",
       "         [ 1.0553, -0.2906, -1.2896, -0.4517],\n",
       "         [-1.1076,  0.6554, -1.4548,  0.4433],\n",
       "         ...,\n",
       "         [ 0.8763, -1.4792, -0.6201, -0.8161],\n",
       "         [ 1.4393, -1.1915,  0.3240,  1.8210],\n",
       "         [ 1.5799,  0.7605,  0.0423,  0.0083]],\n",
       "\n",
       "        ...,\n",
       "\n",
       "        [[ 0.0000,  0.0000,  0.0000,  0.0000],\n",
       "         [ 0.0000,  0.0000,  0.0000,  0.0000],\n",
       "         [ 0.0000,  0.0000,  0.0000,  0.0000],\n",
       "         ...,\n",
       "         [ 0.0000,  0.0000,  0.0000,  0.0000],\n",
       "         [ 0.0000,  0.0000,  0.0000,  0.0000],\n",
       "         [ 0.0000,  0.0000,  0.0000,  0.0000]],\n",
       "\n",
       "        [[ 0.0000,  0.0000,  0.0000,  0.0000],\n",
       "         [ 0.0000,  0.0000,  0.0000,  0.0000],\n",
       "         [ 0.0000,  0.0000,  0.0000,  0.0000],\n",
       "         ...,\n",
       "         [ 0.0000,  0.0000,  0.0000,  0.0000],\n",
       "         [ 0.0000,  0.0000,  0.0000,  0.0000],\n",
       "         [ 0.0000,  0.0000,  0.0000,  0.0000]],\n",
       "\n",
       "        [[ 0.0000,  0.0000,  0.0000,  0.0000],\n",
       "         [ 0.0000,  0.0000,  0.0000,  0.0000],\n",
       "         [ 0.0000,  0.0000,  0.0000,  0.0000],\n",
       "         ...,\n",
       "         [ 0.0000,  0.0000,  0.0000,  0.0000],\n",
       "         [ 0.0000,  0.0000,  0.0000,  0.0000],\n",
       "         [ 0.0000,  0.0000,  0.0000,  0.0000]]])"
      ]
     },
     "execution_count": 7,
     "metadata": {},
     "output_type": "execute_result"
    },
    {
     "ename": "",
     "evalue": "",
     "output_type": "error",
     "traceback": [
      "\u001b[1;31m在当前单元格或上一个单元格中执行代码时 Kernel 崩溃。\n",
      "\u001b[1;31m请查看单元格中的代码，以确定故障的可能原因。\n",
      "\u001b[1;31m单击<a href='https://aka.ms/vscodeJupyterKernelCrash'>此处</a>了解详细信息。\n",
      "\u001b[1;31m有关更多详细信息，请查看 Jupyter <a href='command:jupyter.viewOutput'>log</a>。"
     ]
    }
   ],
   "source": [
    "raw"
   ]
  },
  {
   "cell_type": "code",
   "execution_count": 6,
   "metadata": {},
   "outputs": [
    {
     "data": {
      "text/plain": [
       "tensor([[[31, 32],\n",
       "         [ 1,  4],\n",
       "         [11,  0],\n",
       "         [43, 11],\n",
       "         [ 7,  4],\n",
       "         [14, 34]],\n",
       "\n",
       "        [[13, 37],\n",
       "         [13, 25],\n",
       "         [ 1,  5],\n",
       "         [43, 29],\n",
       "         [13, 28],\n",
       "         [ 9, 11]],\n",
       "\n",
       "        [[44, 25],\n",
       "         [13, 23],\n",
       "         [31, 43],\n",
       "         [44,  9],\n",
       "         [43, 44],\n",
       "         [10,  8]],\n",
       "\n",
       "        ...,\n",
       "\n",
       "        [[10, 21],\n",
       "         [ 0,  3],\n",
       "         [35, 18],\n",
       "         [43, 39],\n",
       "         [ 2, 27],\n",
       "         [31,  3]],\n",
       "\n",
       "        [[45, 45],\n",
       "         [21, 11],\n",
       "         [42, 14],\n",
       "         [ 1,  4],\n",
       "         [18,  1],\n",
       "         [30,  9]],\n",
       "\n",
       "        [[16, 34],\n",
       "         [35, 22],\n",
       "         [29, 22],\n",
       "         [13, 10],\n",
       "         [32, 29],\n",
       "         [42, 36]]])"
      ]
     },
     "execution_count": 6,
     "metadata": {},
     "output_type": "execute_result"
    }
   ],
   "source": [
    "id_z_vals_bckg"
   ]
  }
 ],
 "metadata": {
  "kernelspec": {
   "display_name": "n_learn",
   "language": "python",
   "name": "python3"
  },
  "language_info": {
   "codemirror_mode": {
    "name": "ipython",
    "version": 3
   },
   "file_extension": ".py",
   "mimetype": "text/x-python",
   "name": "python",
   "nbconvert_exporter": "python",
   "pygments_lexer": "ipython3",
   "version": "3.11.8"
  }
 },
 "nbformat": 4,
 "nbformat_minor": 2
}
